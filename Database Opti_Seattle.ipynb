{
 "cells": [
  {
   "cell_type": "code",
   "execution_count": 33,
   "metadata": {},
   "outputs": [],
   "source": [
    "import matplotlib.pyplot as plt\n",
    "import geopandas as gpd\n",
    "import numpy as np\n",
    "import pandas as pd\n"
   ]
  },
  {
   "cell_type": "code",
   "execution_count": 3,
   "metadata": {},
   "outputs": [],
   "source": [
    "labels = gpd.read_file('attributes_20220817.json')"
   ]
  },
  {
   "cell_type": "code",
   "execution_count": 60,
   "metadata": {},
   "outputs": [
    {
     "data": {
      "text/html": [
       "<div>\n",
       "<style scoped>\n",
       "    .dataframe tbody tr th:only-of-type {\n",
       "        vertical-align: middle;\n",
       "    }\n",
       "\n",
       "    .dataframe tbody tr th {\n",
       "        vertical-align: top;\n",
       "    }\n",
       "\n",
       "    .dataframe thead th {\n",
       "        text-align: right;\n",
       "    }\n",
       "</style>\n",
       "<table border=\"1\" class=\"dataframe\">\n",
       "  <thead>\n",
       "    <tr style=\"text-align: right;\">\n",
       "      <th></th>\n",
       "      <th>attribute_id</th>\n",
       "      <th>label_type</th>\n",
       "      <th>street_edge_id</th>\n",
       "      <th>osm_street_id</th>\n",
       "      <th>neighborhood</th>\n",
       "      <th>severity</th>\n",
       "      <th>is_temporary</th>\n",
       "      <th>agree_count</th>\n",
       "      <th>disagree_count</th>\n",
       "      <th>notsure_count</th>\n",
       "      <th>geometry</th>\n",
       "    </tr>\n",
       "  </thead>\n",
       "  <tbody>\n",
       "    <tr>\n",
       "      <th>0</th>\n",
       "      <td>57259626</td>\n",
       "      <td>CurbRamp</td>\n",
       "      <td>22481</td>\n",
       "      <td>394459713</td>\n",
       "      <td>Portage Bay</td>\n",
       "      <td>3.0</td>\n",
       "      <td>False</td>\n",
       "      <td>0</td>\n",
       "      <td>0</td>\n",
       "      <td>1</td>\n",
       "      <td>POINT (-122.32030 47.64312)</td>\n",
       "    </tr>\n",
       "    <tr>\n",
       "      <th>1</th>\n",
       "      <td>57259627</td>\n",
       "      <td>CurbRamp</td>\n",
       "      <td>12051</td>\n",
       "      <td>13521798</td>\n",
       "      <td>Portage Bay</td>\n",
       "      <td>1.0</td>\n",
       "      <td>False</td>\n",
       "      <td>2</td>\n",
       "      <td>0</td>\n",
       "      <td>0</td>\n",
       "      <td>POINT (-122.32189 47.64326)</td>\n",
       "    </tr>\n",
       "    <tr>\n",
       "      <th>2</th>\n",
       "      <td>57259629</td>\n",
       "      <td>CurbRamp</td>\n",
       "      <td>12051</td>\n",
       "      <td>13521798</td>\n",
       "      <td>Portage Bay</td>\n",
       "      <td>1.0</td>\n",
       "      <td>False</td>\n",
       "      <td>2</td>\n",
       "      <td>1</td>\n",
       "      <td>0</td>\n",
       "      <td>POINT (-122.32210 47.64312)</td>\n",
       "    </tr>\n",
       "    <tr>\n",
       "      <th>3</th>\n",
       "      <td>57259630</td>\n",
       "      <td>CurbRamp</td>\n",
       "      <td>22481</td>\n",
       "      <td>394459713</td>\n",
       "      <td>Portage Bay</td>\n",
       "      <td>1.0</td>\n",
       "      <td>False</td>\n",
       "      <td>1</td>\n",
       "      <td>0</td>\n",
       "      <td>0</td>\n",
       "      <td>POINT (-122.32017 47.64315)</td>\n",
       "    </tr>\n",
       "    <tr>\n",
       "      <th>4</th>\n",
       "      <td>57259632</td>\n",
       "      <td>CurbRamp</td>\n",
       "      <td>6732</td>\n",
       "      <td>6456858</td>\n",
       "      <td>Portage Bay</td>\n",
       "      <td>1.0</td>\n",
       "      <td>False</td>\n",
       "      <td>2</td>\n",
       "      <td>0</td>\n",
       "      <td>0</td>\n",
       "      <td>POINT (-122.32120 47.65138)</td>\n",
       "    </tr>\n",
       "  </tbody>\n",
       "</table>\n",
       "</div>"
      ],
      "text/plain": [
       "   attribute_id label_type  street_edge_id  osm_street_id neighborhood  \\\n",
       "0      57259626   CurbRamp           22481      394459713  Portage Bay   \n",
       "1      57259627   CurbRamp           12051       13521798  Portage Bay   \n",
       "2      57259629   CurbRamp           12051       13521798  Portage Bay   \n",
       "3      57259630   CurbRamp           22481      394459713  Portage Bay   \n",
       "4      57259632   CurbRamp            6732        6456858  Portage Bay   \n",
       "\n",
       "   severity  is_temporary  agree_count  disagree_count  notsure_count  \\\n",
       "0       3.0         False            0               0              1   \n",
       "1       1.0         False            2               0              0   \n",
       "2       1.0         False            2               1              0   \n",
       "3       1.0         False            1               0              0   \n",
       "4       1.0         False            2               0              0   \n",
       "\n",
       "                      geometry  \n",
       "0  POINT (-122.32030 47.64312)  \n",
       "1  POINT (-122.32189 47.64326)  \n",
       "2  POINT (-122.32210 47.64312)  \n",
       "3  POINT (-122.32017 47.64315)  \n",
       "4  POINT (-122.32120 47.65138)  "
      ]
     },
     "execution_count": 60,
     "metadata": {},
     "output_type": "execute_result"
    }
   ],
   "source": [
    "labels.head()"
   ]
  },
  {
   "cell_type": "code",
   "execution_count": 61,
   "metadata": {},
   "outputs": [],
   "source": [
    "#select label type = 'curb ramp'\n",
    "curbs = labels[labels['label_type'] == 'CurbRamp']"
   ]
  },
  {
   "cell_type": "code",
   "execution_count": 62,
   "metadata": {},
   "outputs": [
    {
     "name": "stdout",
     "output_type": "stream",
     "text": [
      "32097\n"
     ]
    }
   ],
   "source": [
    "print(len(curbs))"
   ]
  },
  {
   "cell_type": "code",
   "execution_count": 81,
   "metadata": {},
   "outputs": [],
   "source": [
    "# Define the zoom level and corresponding filter thresholds\n",
    "zoom_level = 4\n",
    "zoom_thresholds = {\n",
    "    0: 0.05,  # 1% of data points\n",
    "    1: 0.1,   # 10% of data points\n",
    "    2: 0.25,  # 25% of data points\n",
    "    3: 0.5,   # 50% of data points\n",
    "    4: 1.0    # All data points\n",
    "}\n",
    "\n",
    "# # Extract longitude and latitude from the 'geometry' column\n",
    "# curbs['longitude'] = curbs['geometry'].x\n",
    "# curbs['latitude'] = curbs['geometry'].y\n",
    "\n",
    "# # Calculate the longitude and latitude intervals for dividing regions\n",
    "# longitude_interval = 0.01\n",
    "# latitude_interval = 0.01\n",
    "\n",
    "# # Group the data points based on longitude and latitude intervals\n",
    "# curbs['longitude_group'] = (curbs['longitude'] // longitude_interval) * longitude_interval\n",
    "# curbs['latitude_group'] = (curbs['latitude'] // latitude_interval) * latitude_interval\n",
    "# grouped_labels = curbs.groupby(['longitude_group', 'latitude_group'])"
   ]
  },
  {
   "cell_type": "code",
   "execution_count": 83,
   "metadata": {},
   "outputs": [
    {
     "name": "stdout",
     "output_type": "stream",
     "text": [
      "0.5\n",
      "32097\n",
      "13631\n",
      "18466\n"
     ]
    }
   ],
   "source": [
    "# # Define the minimum number of data points to keep in a region for zoom level 1\n",
    "# min_data_points = 1\n",
    "\n",
    "# # Sample data points per smaller region based on the filter threshold\n",
    "# filtered_labels = grouped_labels.apply(lambda x: x.sample(frac=min(filter_threshold, min_data_points/len(x))))\n",
    "# Determine the filter threshold based on the zoom level\n",
    "filter_threshold = zoom_thresholds.get(zoom_level, 1.0)\n",
    "\n",
    "\n",
    "# Calculate the number of data points to select from zoom level 1\n",
    "if zoom_level > 0:\n",
    "    prev_zoom_level = zoom_level - 1\n",
    "\n",
    "    filtered_labels_prev_zoom = gpd.read_file(f'filtered_curbs_zoomin_{prev_zoom_level}.geojson')\n",
    "\n",
    "    # filter_threshold_prev_zoom = zoom_thresholds.get(zoom_level-1, 1.0)\n",
    "    # filtered_labels_prev_zoom = gpd.read_file('attributes_20220817.json')\n",
    "\n",
    "    filter_threshold = filter_threshold - zoom_thresholds.get(prev_zoom_level, 1.0)\n",
    "    print(filter_threshold)\n",
    "\n",
    "    # disjoint_labels = curbs.difference(filtered_labels_prev_zoom)\n",
    "    # Perform the attribute-based join\n",
    "    merged = curbs.merge(filtered_labels_prev_zoom, on='attribute_id', how='left', indicator=True)\n",
    "\n",
    "    # Filter the merged GeoDataFrame to keep only the records in curbs but not in filtered_labels_prev_zoom\n",
    "    filtered_curbs = merged[merged['_merge'] == 'left_only']\n",
    "\n",
    "    # Drop the _merge column from the resulting GeoDataFrame\n",
    "    disjoint_labels = filtered_curbs.drop(columns='_merge')\n",
    "    print(len(curbs))\n",
    "    print(len(filtered_labels_prev_zoom))\n",
    "    print(len(disjoint_labels))\n",
    "\n",
    "    # Convert `cache_gdf` to a GeoDataFrame\n",
    "    cache_gdf = gpd.GeoDataFrame(disjoint_labels, columns=filtered_labels_prev_zoom.columns)\n",
    "\n",
    "    grouped_labels = cache_gdf.groupby('neighborhood')\n",
    "\n",
    "    cache = cache_gdf.apply(lambda x: x.sample(frac=filter_threshold, random_state=14))\n",
    "\n",
    "    # Concatenate the two GeoDataFrames\n",
    "    filtered_labels = pd.concat([filtered_labels_prev_zoom, cache])\n",
    "\n",
    "else:\n",
    "    # Group the data points based on the neighborhood column\n",
    "    grouped_labels = curbs.groupby('neighborhood')\n",
    "\n",
    "    # Sample data points per smaller region based on the filter threshold\n",
    "    filtered_labels = grouped_labels.apply(lambda x: x.sample(frac=filter_threshold, random_state=14))\n",
    "\n",
    "# Reset the index of the filtered labels\n",
    "filtered_labels = filtered_labels.reset_index(drop=True)\n",
    "\n",
    "# Visualize the filtered data\n",
    "# filtered_labels.plot()"
   ]
  },
  {
   "cell_type": "code",
   "execution_count": 84,
   "metadata": {},
   "outputs": [
    {
     "name": "stdout",
     "output_type": "stream",
     "text": [
      "22864\n"
     ]
    }
   ],
   "source": [
    "# print the length of filtered_labels\n",
    "print(len(filtered_labels))"
   ]
  },
  {
   "cell_type": "code",
   "execution_count": 85,
   "metadata": {},
   "outputs": [
    {
     "name": "stdout",
     "output_type": "stream",
     "text": [
      "filtered_labels contains all the data points from filtered_labels_prev_zoom\n"
     ]
    }
   ],
   "source": [
    "# Check if all 'id' values from filtered_labels_prev_zoom exist in filtered_labels\n",
    "is_subset = filtered_labels_prev_zoom['attribute_id'].isin(filtered_labels['attribute_id']).all()\n",
    "\n",
    "if is_subset:\n",
    "    print(\"filtered_labels contains all the data points from filtered_labels_prev_zoom\")\n",
    "    filtered_labels.to_file(f'filtered_curbs_zoomin_{zoom_level}.geojson', driver='GeoJSON')\n",
    "else:\n",
    "    print(\"filtered_labels does not contain all the data points from filtered_labels_prev_zoom\")\n"
   ]
  },
  {
   "cell_type": "code",
   "execution_count": 18,
   "metadata": {},
   "outputs": [
    {
     "ename": "ImportError",
     "evalue": "The 'folium', 'matplotlib' and 'mapclassify' packages are required for 'explore()'. You can install them using 'conda install -c conda-forge folium matplotlib mapclassify' or 'pip install folium matplotlib mapclassify'.",
     "output_type": "error",
     "traceback": [
      "\u001b[1;31m---------------------------------------------------------------------------\u001b[0m",
      "\u001b[1;31mModuleNotFoundError\u001b[0m                       Traceback (most recent call last)",
      "File \u001b[1;32mc:\\Users\\44549\\anaconda3\\envs\\cse446\\lib\\site-packages\\geopandas\\explore.py:279\u001b[0m, in \u001b[0;36m_explore\u001b[1;34m(df, column, cmap, color, m, tiles, attr, tooltip, popup, highlight, categorical, legend, scheme, k, vmin, vmax, width, height, categories, classification_kwds, control_scale, marker_type, marker_kwds, style_kwds, highlight_kwds, missing_kwds, tooltip_kwds, popup_kwds, legend_kwds, map_kwds, **kwargs)\u001b[0m\n\u001b[0;32m    278\u001b[0m \u001b[39mtry\u001b[39;00m:\n\u001b[1;32m--> 279\u001b[0m     \u001b[39mimport\u001b[39;00m \u001b[39mbranca\u001b[39;00m \u001b[39mas\u001b[39;00m \u001b[39mbc\u001b[39;00m\n\u001b[0;32m    280\u001b[0m     \u001b[39mimport\u001b[39;00m \u001b[39mfolium\u001b[39;00m\n",
      "\u001b[1;31mModuleNotFoundError\u001b[0m: No module named 'branca'",
      "\nDuring handling of the above exception, another exception occurred:\n",
      "\u001b[1;31mImportError\u001b[0m                               Traceback (most recent call last)",
      "Cell \u001b[1;32mIn[18], line 1\u001b[0m\n\u001b[1;32m----> 1\u001b[0m filtered_labels\u001b[39m.\u001b[39;49mexplore()\n",
      "File \u001b[1;32mc:\\Users\\44549\\anaconda3\\envs\\cse446\\lib\\site-packages\\geopandas\\geodataframe.py:1981\u001b[0m, in \u001b[0;36mGeoDataFrame.explore\u001b[1;34m(self, *args, **kwargs)\u001b[0m\n\u001b[0;32m   1978\u001b[0m \u001b[39m@doc\u001b[39m(_explore)\n\u001b[0;32m   1979\u001b[0m \u001b[39mdef\u001b[39;00m \u001b[39mexplore\u001b[39m(\u001b[39mself\u001b[39m, \u001b[39m*\u001b[39margs, \u001b[39m*\u001b[39m\u001b[39m*\u001b[39mkwargs):\n\u001b[0;32m   1980\u001b[0m \u001b[39m    \u001b[39m\u001b[39m\"\"\"Interactive map based on folium/leaflet.js\"\"\"\u001b[39;00m\n\u001b[1;32m-> 1981\u001b[0m     \u001b[39mreturn\u001b[39;00m _explore(\u001b[39mself\u001b[39;49m, \u001b[39m*\u001b[39;49margs, \u001b[39m*\u001b[39;49m\u001b[39m*\u001b[39;49mkwargs)\n",
      "File \u001b[1;32mc:\\Users\\44549\\anaconda3\\envs\\cse446\\lib\\site-packages\\geopandas\\explore.py:294\u001b[0m, in \u001b[0;36m_explore\u001b[1;34m(df, column, cmap, color, m, tiles, attr, tooltip, popup, highlight, categorical, legend, scheme, k, vmin, vmax, width, height, categories, classification_kwds, control_scale, marker_type, marker_kwds, style_kwds, highlight_kwds, missing_kwds, tooltip_kwds, popup_kwds, legend_kwds, map_kwds, **kwargs)\u001b[0m\n\u001b[0;32m    291\u001b[0m         \u001b[39mimport\u001b[39;00m \u001b[39mmatplotlib\u001b[39;00m\u001b[39m.\u001b[39;00m\u001b[39mcm\u001b[39;00m \u001b[39mas\u001b[39;00m \u001b[39mcm\u001b[39;00m\n\u001b[0;32m    293\u001b[0m \u001b[39mexcept\u001b[39;00m (\u001b[39mImportError\u001b[39;00m, \u001b[39mModuleNotFoundError\u001b[39;00m):\n\u001b[1;32m--> 294\u001b[0m     \u001b[39mraise\u001b[39;00m \u001b[39mImportError\u001b[39;00m(\n\u001b[0;32m    295\u001b[0m         \u001b[39m\"\u001b[39m\u001b[39mThe \u001b[39m\u001b[39m'\u001b[39m\u001b[39mfolium\u001b[39m\u001b[39m'\u001b[39m\u001b[39m, \u001b[39m\u001b[39m'\u001b[39m\u001b[39mmatplotlib\u001b[39m\u001b[39m'\u001b[39m\u001b[39m and \u001b[39m\u001b[39m'\u001b[39m\u001b[39mmapclassify\u001b[39m\u001b[39m'\u001b[39m\u001b[39m packages are required for \u001b[39m\u001b[39m\"\u001b[39m\n\u001b[0;32m    296\u001b[0m         \u001b[39m\"\u001b[39m\u001b[39m'\u001b[39m\u001b[39mexplore()\u001b[39m\u001b[39m'\u001b[39m\u001b[39m. You can install them using \u001b[39m\u001b[39m\"\u001b[39m\n\u001b[0;32m    297\u001b[0m         \u001b[39m\"\u001b[39m\u001b[39m'\u001b[39m\u001b[39mconda install -c conda-forge folium matplotlib mapclassify\u001b[39m\u001b[39m'\u001b[39m\u001b[39m \u001b[39m\u001b[39m\"\u001b[39m\n\u001b[0;32m    298\u001b[0m         \u001b[39m\"\u001b[39m\u001b[39mor \u001b[39m\u001b[39m'\u001b[39m\u001b[39mpip install folium matplotlib mapclassify\u001b[39m\u001b[39m'\u001b[39m\u001b[39m.\u001b[39m\u001b[39m\"\u001b[39m\n\u001b[0;32m    299\u001b[0m     )\n\u001b[0;32m    301\u001b[0m \u001b[39m# xyservices is an optional dependency\u001b[39;00m\n\u001b[0;32m    302\u001b[0m \u001b[39mtry\u001b[39;00m:\n",
      "\u001b[1;31mImportError\u001b[0m: The 'folium', 'matplotlib' and 'mapclassify' packages are required for 'explore()'. You can install them using 'conda install -c conda-forge folium matplotlib mapclassify' or 'pip install folium matplotlib mapclassify'."
     ]
    }
   ],
   "source": [
    "filtered_labels.explore()"
   ]
  }
 ],
 "metadata": {
  "kernelspec": {
   "display_name": "ProjectSidewalk",
   "language": "python",
   "name": "python3"
  },
  "language_info": {
   "codemirror_mode": {
    "name": "ipython",
    "version": 3
   },
   "file_extension": ".py",
   "mimetype": "text/x-python",
   "name": "python",
   "nbconvert_exporter": "python",
   "pygments_lexer": "ipython3",
   "version": "3.8.10"
  },
  "orig_nbformat": 4
 },
 "nbformat": 4,
 "nbformat_minor": 2
}
